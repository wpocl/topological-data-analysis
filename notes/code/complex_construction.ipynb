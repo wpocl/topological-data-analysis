{
 "cells": [
  {
   "cell_type": "code",
   "execution_count": 1,
   "metadata": {},
   "outputs": [],
   "source": [
    "import numpy as np\n",
    "import gudhi as gd\n",
    "\n",
    "import plotly.graph_objects as go\n",
    "from plotly.offline import iplot\n",
    "\n",
    "import ipywidgets as widgets"
   ]
  },
  {
   "cell_type": "code",
   "execution_count": 2,
   "metadata": {},
   "outputs": [],
   "source": [
    "def sample_from_torus(num_points, major_radius, minor_radius):\n",
    "    # Generate random angles\n",
    "    theta = 2 * np.pi * np.random.rand(num_points)\n",
    "    phi = 2 * np.pi * np.random.rand(num_points)\n",
    "\n",
    "    # Calculate x, y, z coordinates on the torus\n",
    "    x = (major_radius + minor_radius * np.cos(phi)) * np.cos(theta)\n",
    "    y = (major_radius + minor_radius * np.cos(phi)) * np.sin(theta)\n",
    "    z = minor_radius * np.sin(phi)\n",
    "\n",
    "    return x, y, z\n",
    "\n",
    "num_points = 10000\n",
    "major_radius = 5\n",
    "minor_radius = 2\n",
    "\n",
    "x, y, z = sample_from_torus(num_points, major_radius, minor_radius)"
   ]
  },
  {
   "cell_type": "code",
   "execution_count": null,
   "metadata": {},
   "outputs": [],
   "source": [
    "fig = go.Figure(data=go.Scatter3d(x=x, y=y, z=z, mode='markers', \n",
    "                                  marker=dict(size=3, color='blue')))\n",
    "\n",
    "fig.update_layout(scene=dict(xaxis_title='X', yaxis_title='Y', zaxis_title='Z'),\n",
    "                  margin=dict(l=0, r=0, b=0, t=0), width=600, height=400)"
   ]
  },
  {
   "cell_type": "code",
   "execution_count": 4,
   "metadata": {},
   "outputs": [],
   "source": [
    "torus = np.squeeze(np.dstack((x, y, z)))"
   ]
  },
  {
   "cell_type": "code",
   "execution_count": null,
   "metadata": {},
   "outputs": [],
   "source": [
    "ac = gd.AlphaComplex(torus)\n",
    "st = ac.create_simplex_tree()\n",
    "\n",
    "n = st.dimension()\n",
    "\n",
    "# Extract the 2-simplices in the Delaunay complex\n",
    "triangles = [s for s in st.get_skeleton(n) if len(s[0]) == 3]\n",
    "\n",
    "alpha = widgets.FloatSlider(\n",
    "    value = 0.15,\n",
    "    min = 0.015,\n",
    "    max = 0.3,\n",
    "    step = 0.0001,\n",
    "    description = 'Alpha:', \n",
    "    readout_format = '.4f',\n",
    "    layout=widgets.Layout(width='600px')\n",
    ")\n",
    "mesh = go.Mesh3d(\n",
    "    x = torus[:, 0], \n",
    "    y = torus[:, 1], \n",
    "    z = torus[:, 2], \n",
    "    i = torus[:, 0], \n",
    "    j = torus[:, 1], \n",
    "    k = torus[:, 2]\n",
    ")\n",
    "fig = go.FigureWidget(\n",
    "    data = mesh, \n",
    "    layout = go.Layout(\n",
    "        width=600,\n",
    "        height=400\n",
    "    )\n",
    ")\n",
    "def view_triangulation(alpha):\n",
    "    # Filter to get the 2-simplices in the alpha complex\n",
    "    alpha_triangles = np.array([s[0] for s in triangles if s[1] < alpha])\n",
    "    fig.data[0].i = alpha_triangles[:, 0]\n",
    "    fig.data[0].j = alpha_triangles[:, 1]\n",
    "    fig.data[0].k = alpha_triangles[:, 2]\n",
    "    iplot(fig)\n",
    "\n",
    "fig.update_layout(scene=dict(xaxis_title='X', yaxis_title='Y', zaxis_title='Z'),\n",
    "                  margin=dict(l=0, r=0, b=0, t=0), width=600, height=400)\n",
    "\n",
    "widgets.interact(view_triangulation, alpha=alpha)"
   ]
  },
  {
   "cell_type": "code",
   "execution_count": null,
   "metadata": {},
   "outputs": [],
   "source": [
    "r = widgets.FloatSlider(\n",
    "    value = 0.3,\n",
    "    min = 0.1,\n",
    "    max = 0.6,\n",
    "    step = 0.0001,\n",
    "    description = 'r:', \n",
    "    readout_format = '.4f',\n",
    "    layout=widgets.Layout(width='600px')\n",
    ")\n",
    "mesh = go.Mesh3d(\n",
    "    x = torus[:, 0], \n",
    "    y = torus[:, 1], \n",
    "    z = torus[:, 2], \n",
    "    i = torus[:, 0], \n",
    "    j = torus[:, 1], \n",
    "    k = torus[:, 2]\n",
    ")\n",
    "fig = go.FigureWidget(\n",
    "    data = mesh, \n",
    "    layout = go.Layout(\n",
    "        width=600,\n",
    "        height=400\n",
    "    )\n",
    ")\n",
    "def view_triangulation(r):\n",
    "    # Create the Rips complex\n",
    "    rc = gd.RipsComplex(points=torus, max_edge_length=2*r)\n",
    "    st = rc.create_simplex_tree(max_dimension=2)\n",
    "\n",
    "    # Extract the 2-simplices\n",
    "    triangles = np.array([s for s, _ in st.get_simplices() if len(s) == 3])\n",
    "    \n",
    "    fig.data[0].i = triangles[:, 0]\n",
    "    fig.data[0].j = triangles[:, 1]\n",
    "    fig.data[0].k = triangles[:, 2]\n",
    "    iplot(fig)\n",
    "\n",
    "fig.update_layout(scene=dict(xaxis_title='X', yaxis_title='Y', zaxis_title='Z'),\n",
    "                  margin=dict(l=0, r=0, b=0, t=0), width=600, height=400)\n",
    "\n",
    "widgets.interact(view_triangulation, r=r)"
   ]
  }
 ],
 "metadata": {
  "kernelspec": {
   "display_name": "tda",
   "language": "python",
   "name": "python3"
  },
  "language_info": {
   "codemirror_mode": {
    "name": "ipython",
    "version": 3
   },
   "file_extension": ".py",
   "mimetype": "text/x-python",
   "name": "python",
   "nbconvert_exporter": "python",
   "pygments_lexer": "ipython3",
   "version": "3.11.3"
  },
  "orig_nbformat": 4
 },
 "nbformat": 4,
 "nbformat_minor": 2
}
