{
  "cells": [
    {
      "cell_type": "code",
      "execution_count": 1,
      "metadata": {
        "id": "-YtIpregj8zK"
      },
      "outputs": [],
      "source": [
        "import numpy as np\n",
        "import pandas as pd\n",
        "import matplotlib.pyplot as plt\n",
        "import torch\n",
        "import torch.nn as nn\n",
        "from sklearn.metrics import accuracy_score\n",
        "from google.colab import drive"
      ]
    },
    {
      "cell_type": "code",
      "execution_count": 2,
      "metadata": {
        "id": "mr3_lCfhj8zL"
      },
      "outputs": [],
      "source": [
        "plt.style.use(\"ggplot\")"
      ]
    },
    {
      "cell_type": "code",
      "execution_count": 3,
      "metadata": {
        "id": "n_NRQI_aj8zM",
        "outputId": "14b085d4-6194-482b-a705-c47e0942976e",
        "colab": {
          "base_uri": "https://localhost:8080/"
        }
      },
      "outputs": [
        {
          "output_type": "stream",
          "name": "stdout",
          "text": [
            "Drive already mounted at /content/drive; to attempt to forcibly remount, call drive.mount(\"/content/drive\", force_remount=True).\n"
          ]
        }
      ],
      "source": [
        "drive.mount(\"/content/drive\")"
      ]
    },
    {
      "cell_type": "code",
      "execution_count": 4,
      "metadata": {
        "id": "h9V0gI99j8zM"
      },
      "outputs": [],
      "source": [
        "device = torch.device('cuda' if torch.cuda.is_available() else 'cpu')"
      ]
    },
    {
      "cell_type": "code",
      "execution_count": 5,
      "metadata": {
        "id": "lCkYx2eaj8zM"
      },
      "outputs": [],
      "source": [
        "train = pd.read_csv(\"/content/drive/MyDrive/mnist/train.csv\")\n",
        "test = pd.read_csv(\"/content/drive/MyDrive/mnist/test.csv\")"
      ]
    },
    {
      "cell_type": "code",
      "execution_count": 6,
      "metadata": {
        "id": "06cgxoTJj8zM"
      },
      "outputs": [],
      "source": [
        "X_train = train.drop(columns=\"label\").values\n",
        "y_train = train[\"label\"].values"
      ]
    },
    {
      "cell_type": "code",
      "execution_count": 7,
      "metadata": {
        "id": "7gOVOaw9j8zM"
      },
      "outputs": [],
      "source": [
        "X_test = test.values"
      ]
    },
    {
      "cell_type": "code",
      "execution_count": 8,
      "metadata": {
        "id": "dXRLWm6Lj8zM"
      },
      "outputs": [],
      "source": [
        "# Normalize the data\n",
        "X_train = X_train / 255\n",
        "X_test = X_test / 255"
      ]
    },
    {
      "cell_type": "code",
      "execution_count": 9,
      "metadata": {
        "id": "ZSheSsD9j8zM"
      },
      "outputs": [],
      "source": [
        "# Reshape to image format\n",
        "X_train = X_train.reshape(-1, 1, 28, 28)\n",
        "X_test = X_test.reshape(-1, 1, 28, 28)"
      ]
    },
    {
      "cell_type": "code",
      "execution_count": 10,
      "metadata": {
        "id": "WsmYOp5uj8zM"
      },
      "outputs": [],
      "source": [
        "# One hot encoding\n",
        "y_train_oh = torch.eye(10)[y_train]"
      ]
    },
    {
      "cell_type": "code",
      "execution_count": 11,
      "metadata": {
        "id": "3YzuHJ3ij8zN"
      },
      "outputs": [],
      "source": [
        "# Convert X, y to tensor\n",
        "X_train = torch.Tensor(X_train)\n",
        "y_train_oh = torch.Tensor(y_train_oh)\n",
        "\n",
        "X_test = torch.Tensor(X_test)"
      ]
    },
    {
      "cell_type": "code",
      "execution_count": 12,
      "metadata": {
        "id": "cPuWkNFqj8zN"
      },
      "outputs": [],
      "source": [
        "class CNN(nn.Module):\n",
        "    def __init__(self):\n",
        "        super(CNN, self).__init__()\n",
        "\n",
        "        self.conv1 = nn.Conv2d(1, 32, kernel_size=3, padding=1)\n",
        "        self.relu1 = nn.ReLU()\n",
        "\n",
        "        self.conv2 = nn.Conv2d(32, 64, kernel_size=3, padding=1)\n",
        "        self.relu2 = nn.ReLU()\n",
        "        self.pool1 = nn.MaxPool2d(kernel_size=2, stride=2)\n",
        "        self.dropout1 = nn.Dropout(0.3)\n",
        "\n",
        "        self.conv3 = nn.Conv2d(64, 128, kernel_size=3, padding=1)\n",
        "        self.relu3 = nn.ReLU()\n",
        "\n",
        "        self.conv4 = nn.Conv2d(128, 128, kernel_size=3, padding=1)\n",
        "        self.relu4 = nn.ReLU()\n",
        "        self.pool2 = nn.MaxPool2d(kernel_size=2, stride=2)\n",
        "        self.dropout2 = nn.Dropout(0.3)\n",
        "\n",
        "        self.conv5 = nn.Conv2d(128, 256, kernel_size=3, padding=1)\n",
        "        self.relu5 = nn.ReLU()\n",
        "\n",
        "        self.conv6 = nn.Conv2d(256, 256, kernel_size=3, padding=1)\n",
        "        self.relu6 = nn.ReLU()\n",
        "        self.dropout3 = nn.Dropout(0.35)\n",
        "\n",
        "        self.flatten = nn.Flatten()\n",
        "        self.fc1 = nn.Linear(256 * 7 * 7, 512)\n",
        "        self.relu7 = nn.ReLU()\n",
        "        self.dropout4 = nn.Dropout(0.5)\n",
        "\n",
        "        self.fc2 = nn.Linear(512, 10)\n",
        "        self.softmax = nn.Softmax(dim=1)\n",
        "\n",
        "    def forward(self, x):\n",
        "        x = self.conv1(x)\n",
        "        x = self.relu1(x)\n",
        "\n",
        "        x = self.conv2(x)\n",
        "        x = self.relu2(x)\n",
        "        x = self.pool1(x)\n",
        "        x = self.dropout1(x)\n",
        "\n",
        "        x = self.conv3(x)\n",
        "        x = self.relu3(x)\n",
        "\n",
        "        x = self.conv4(x)\n",
        "        x = self.relu4(x)\n",
        "        x = self.pool2(x)\n",
        "        x = self.dropout2(x)\n",
        "\n",
        "        x = self.conv5(x)\n",
        "        x = self.relu5(x)\n",
        "\n",
        "        x = self.conv6(x)\n",
        "        x = self.relu6(x)\n",
        "        x = self.dropout3(x)\n",
        "\n",
        "        x = self.flatten(x)\n",
        "        x = self.fc1(x)\n",
        "        x = self.relu7(x)\n",
        "        x = self.dropout4(x)\n",
        "\n",
        "        x = self.fc2(x)\n",
        "        x = self.softmax(x)\n",
        "\n",
        "        return x"
      ]
    },
    {
      "cell_type": "code",
      "execution_count": 13,
      "metadata": {
        "id": "CK-tRWmzj8zN"
      },
      "outputs": [],
      "source": [
        "num_samples = X_train.shape[0]"
      ]
    },
    {
      "cell_type": "code",
      "execution_count": 14,
      "metadata": {
        "id": "y7WpHY6Ij8zN"
      },
      "outputs": [],
      "source": [
        "num_filters1 = 8\n",
        "num_filters2 = 16\n",
        "num_hidden_units=256\n",
        "learning_rate = 0.001\n",
        "num_epochs = 30\n",
        "batch_size = 110\n",
        "\n",
        "model = CNN()\n",
        "\n",
        "# Move the model, input data, and labels to the GPU\n",
        "model = model.to(device)\n",
        "X_train = X_train.to(device)\n",
        "y_train_oh = y_train_oh.to(device)\n",
        "\n",
        "criterion = nn.CrossEntropyLoss()\n",
        "optimizer = torch.optim.Adam(model.parameters(), lr=learning_rate)\n",
        "\n",
        "for epoch in range(num_epochs):\n",
        "    for start_index in range(0, num_samples, batch_size):\n",
        "        end_index = start_index + batch_size\n",
        "        if end_index > num_samples: continue\n",
        "        X_batch = X_train[start_index: end_index]\n",
        "        y_batch = y_train_oh[start_index: end_index]\n",
        "\n",
        "        # Forward pass\n",
        "        y_batch_ = model(X_batch)\n",
        "        loss = criterion(y_batch_, y_batch)\n",
        "\n",
        "        # Backward pass and optimization\n",
        "        optimizer.zero_grad()\n",
        "        loss.backward()\n",
        "        optimizer.step()"
      ]
    },
    {
      "cell_type": "code",
      "source": [
        "model = model.to(device)\n",
        "X_test = X_test.to(device)"
      ],
      "metadata": {
        "id": "5lgd1NeYmUhh"
      },
      "execution_count": 15,
      "outputs": []
    },
    {
      "cell_type": "code",
      "source": [
        "# Make predictions from X_test in batches because\n",
        "# memory limitations\n",
        "batch_size = 1000\n",
        "num_samples = X_test.shape[0]\n",
        "num_batches = (num_samples + batch_size - 1) // batch_size\n",
        "\n",
        "model.eval()\n",
        "\n",
        "y_test_oh_ = []\n",
        "\n",
        "with torch.no_grad():\n",
        "    for batch_idx in range(num_batches):\n",
        "        start_idx = batch_idx * batch_size\n",
        "        end_idx = min((batch_idx + 1) * batch_size, num_samples)\n",
        "        inputs = X_test[start_idx: end_idx]\n",
        "        outputs = model(inputs)\n",
        "        y_test_oh_.append(outputs)\n",
        "\n",
        "y_test_oh_ = torch.cat(y_test_oh_, dim=0)"
      ],
      "metadata": {
        "id": "kg4zXhFQohOX"
      },
      "execution_count": 16,
      "outputs": []
    },
    {
      "cell_type": "code",
      "source": [
        "y_test_oh_ = y_test_oh_.cpu().numpy()\n",
        "y_test_ = np.argmax(y_test_oh_, axis=1)"
      ],
      "metadata": {
        "id": "-Hw9iSJ3o6jL"
      },
      "execution_count": 17,
      "outputs": []
    },
    {
      "cell_type": "code",
      "execution_count": 18,
      "metadata": {
        "id": "c_Y5_p0Gj8zO"
      },
      "outputs": [],
      "source": [
        "test_predictions = pd.Series(y_test_, name=\"Label\")\n",
        "test_predictions.index.name = \"ImageId\"\n",
        "test_predictions.index += 1 # kaggle expects one indexed predictions"
      ]
    },
    {
      "cell_type": "code",
      "execution_count": 19,
      "metadata": {
        "id": "z39BpRZQj8zO"
      },
      "outputs": [],
      "source": [
        "test_predictions.to_csv(\"/content/drive/MyDrive/mnist/cnn_baseline2.csv\")"
      ]
    }
  ],
  "metadata": {
    "kernelspec": {
      "display_name": "Python 3",
      "name": "python3"
    },
    "language_info": {
      "codemirror_mode": {
        "name": "ipython",
        "version": 3
      },
      "file_extension": ".py",
      "mimetype": "text/x-python",
      "name": "python",
      "nbconvert_exporter": "python",
      "pygments_lexer": "ipython3",
      "version": "3.8.16"
    },
    "orig_nbformat": 4,
    "colab": {
      "provenance": [],
      "gpuType": "T4"
    },
    "accelerator": "GPU"
  },
  "nbformat": 4,
  "nbformat_minor": 0
}