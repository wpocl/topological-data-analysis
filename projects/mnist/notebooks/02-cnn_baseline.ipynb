{
  "cells": [
    {
      "cell_type": "code",
      "execution_count": 2,
      "metadata": {
        "id": "kVunsLk6R4dm"
      },
      "outputs": [],
      "source": [
        "import numpy as np\n",
        "import pandas as pd\n",
        "import matplotlib.pyplot as plt\n",
        "import torch\n",
        "import torch.nn as nn\n",
        "from sklearn.model_selection import train_test_split\n",
        "from sklearn.model_selection import GridSearchCV\n",
        "from sklearn.metrics import accuracy_score\n",
        "\n",
        "from google.colab import drive"
      ]
    },
    {
      "cell_type": "code",
      "source": [
        "plt.style.use(\"ggplot\")"
      ],
      "metadata": {
        "id": "U7rlEeBPSnNy"
      },
      "execution_count": 3,
      "outputs": []
    },
    {
      "cell_type": "code",
      "source": [
        "drive.mount(\"/content/drive\")"
      ],
      "metadata": {
        "id": "jP2UlSSoSATV",
        "outputId": "b8fc8c44-d25d-4ee3-9c76-a56170cd3246",
        "colab": {
          "base_uri": "https://localhost:8080/"
        }
      },
      "execution_count": 4,
      "outputs": [
        {
          "output_type": "stream",
          "name": "stdout",
          "text": [
            "Mounted at /content/drive\n"
          ]
        }
      ]
    },
    {
      "cell_type": "code",
      "source": [
        "device = torch.device('cuda' if torch.cuda.is_available() else 'cpu')"
      ],
      "metadata": {
        "id": "gCCSiLlGS2k3"
      },
      "execution_count": 10,
      "outputs": []
    },
    {
      "cell_type": "code",
      "execution_count": 11,
      "metadata": {
        "id": "hArgNJapR4dw"
      },
      "outputs": [],
      "source": [
        "# train = pd.read_csv(\"drive/data/raw/train.csv\")\n",
        "# test = pd.read_csv(\"data/raw/test.csv\")\n",
        "\n",
        "train = pd.read_csv(\"/content/drive/MyDrive/mnist/train.csv\")\n",
        "test = pd.read_csv(\"/content/drive/MyDrive/mnist/test.csv\")"
      ]
    },
    {
      "cell_type": "code",
      "execution_count": 12,
      "metadata": {
        "id": "CsS5qJo-R4dw"
      },
      "outputs": [],
      "source": [
        "X_train = train.drop(columns=\"label\").values\n",
        "y_train = train[\"label\"].values"
      ]
    },
    {
      "cell_type": "code",
      "execution_count": 13,
      "metadata": {
        "id": "KwQ1EBODR4dw"
      },
      "outputs": [],
      "source": [
        "X_test = test.values"
      ]
    },
    {
      "cell_type": "code",
      "execution_count": 14,
      "metadata": {
        "id": "0kvOpSA7R4dw"
      },
      "outputs": [],
      "source": [
        "# Normalize the data\n",
        "X_train = X_train / 255\n",
        "X_test = X_test / 255"
      ]
    },
    {
      "cell_type": "code",
      "execution_count": 21,
      "metadata": {
        "id": "LNvOPKBvR4dx"
      },
      "outputs": [],
      "source": [
        "# Reshape to image format\n",
        "X_train = X_train.reshape(-1, 1, 28, 28)\n",
        "X_test = X_test.reshape(-1, 1, 28, 28)"
      ]
    },
    {
      "cell_type": "code",
      "source": [
        "# One hot encoding\n",
        "y_train_oh = torch.eye(10)[y_train]"
      ],
      "metadata": {
        "id": "O2k6U1_-YC3N"
      },
      "execution_count": null,
      "outputs": []
    },
    {
      "cell_type": "code",
      "execution_count": 22,
      "metadata": {
        "id": "wBivPCbcR4dx"
      },
      "outputs": [],
      "source": [
        "# Convert X, y to tensor\n",
        "X_train = torch.Tensor(X_train)\n",
        "y_train_oh = torch.Tensor(y_train_oh)\n",
        "\n",
        "X_test = torch.Tensor(X_test)"
      ]
    },
    {
      "cell_type": "code",
      "execution_count": 24,
      "metadata": {
        "id": "xETCwVrLR4dy"
      },
      "outputs": [],
      "source": [
        "class CNN(nn.Module):\n",
        "    def __init__(self,\n",
        "                 num_filters1=8,\n",
        "                 num_filters2=16,\n",
        "                 num_hidden_units=256):\n",
        "        super(CNN, self).__init__()\n",
        "\n",
        "        self.conv1 = nn.Conv2d(1, num_filters1, kernel_size=5, padding=2)\n",
        "        self.relu1 = nn.ReLU()\n",
        "        self.pool1 = nn.MaxPool2d(kernel_size=2, stride=2)\n",
        "        self.dropout1 = nn.Dropout(0.25)\n",
        "\n",
        "        self.conv2 = nn.Conv2d(num_filters1, num_filters2,\n",
        "                               kernel_size=3,padding=1)\n",
        "        self.relu2 = nn.ReLU()\n",
        "        self.pool2 = nn.MaxPool2d(kernel_size=2, stride=2)\n",
        "        self.dropout2 = nn.Dropout(0.25)\n",
        "\n",
        "        self.flatten = nn.Flatten()\n",
        "        self.fc1 = nn.Linear(num_filters2 * 7 * 7, num_hidden_units)\n",
        "        self.relu3 = nn.ReLU()\n",
        "        self.dropout3 = nn.Dropout(0.5)\n",
        "        self.fc2 = nn.Linear(num_hidden_units, 10)\n",
        "        self.softmax = nn.Softmax(dim=1)\n",
        "\n",
        "    def forward(self, x):\n",
        "        x = self.conv1(x)\n",
        "        x = self.relu1(x)\n",
        "        x = self.pool1(x)\n",
        "        x = self.dropout1(x)\n",
        "\n",
        "        x = self.conv2(x)\n",
        "        x = self.relu2(x)\n",
        "        x = self.pool2(x)\n",
        "        x = self.dropout2(x)\n",
        "\n",
        "        x = self.flatten(x)\n",
        "        x = self.fc1(x)\n",
        "        x = self.relu3(x)\n",
        "        x = self.dropout3(x)\n",
        "        x = self.fc2(x)\n",
        "        x = self.softmax(x)\n",
        "\n",
        "        return x"
      ]
    },
    {
      "cell_type": "code",
      "execution_count": 25,
      "metadata": {
        "id": "75a796yJR4dy"
      },
      "outputs": [],
      "source": [
        "num_samples = X_train.shape[0]"
      ]
    },
    {
      "cell_type": "code",
      "execution_count": 26,
      "metadata": {
        "id": "mz5OdmcLR4dy"
      },
      "outputs": [],
      "source": [
        "num_filters1 = 8\n",
        "num_filters2 = 16\n",
        "num_hidden_units=256\n",
        "learning_rate = 0.001\n",
        "num_epochs = 10\n",
        "batch_size = 250\n",
        "\n",
        "model = CNN(num_filters1=num_filters1, num_filters2=num_filters2,\n",
        "            num_hidden_units=num_hidden_units)\n",
        "\n",
        "# Move the model, input data, and labels to the GPU\n",
        "model = model.to(device)\n",
        "X_train = X_train.to(device)\n",
        "y_train_oh = y_train_oh.to(device)\n",
        "\n",
        "criterion = nn.CrossEntropyLoss()\n",
        "optimizer = torch.optim.Adam(model.parameters(), lr=learning_rate)\n",
        "\n",
        "for epoch in range(num_epochs):\n",
        "    for start_index in range(0, num_samples, batch_size):\n",
        "        end_index = start_index + batch_size\n",
        "        if end_index > num_samples: continue\n",
        "        batch = X_train[start_index:end_index]\n",
        "\n",
        "        # Forward pass\n",
        "        y_train_oh_ = model(X_train)\n",
        "        loss = criterion(y_train_oh_, y_train_oh)\n",
        "\n",
        "        # Backward pass and optimization\n",
        "        optimizer.zero_grad()\n",
        "        loss.backward()\n",
        "        optimizer.step()"
      ]
    },
    {
      "cell_type": "code",
      "execution_count": 29,
      "metadata": {
        "id": "Jx9UdMreR4dz",
        "outputId": "8f465d69-ed2f-4e3d-a5c9-e0116d1bc77a",
        "colab": {
          "base_uri": "https://localhost:8080/"
        }
      },
      "outputs": [
        {
          "output_type": "stream",
          "name": "stdout",
          "text": [
            "Training accuracy: 0.9887619047619047\n"
          ]
        }
      ],
      "source": [
        "y_train_oh_ = model(X_train)\n",
        "y_train_ = torch.argmax(y_train_oh_, dim=1).cpu().numpy()\n",
        "\n",
        "accuracy = accuracy_score(y_train, y_train_)\n",
        "\n",
        "print(f\"Training accuracy: {accuracy}\")"
      ]
    },
    {
      "cell_type": "code",
      "source": [
        "# Move X_test to GPU\n",
        "X_test = X_test.to(device)\n",
        "\n",
        "# Make predictions from X_test\n",
        "y_test_oh_ = model(X_test)\n",
        "y_test_ = torch.argmax(y_test_oh_, dim=1).cpu().numpy()"
      ],
      "metadata": {
        "id": "vzBkwhD9XCHE"
      },
      "execution_count": 36,
      "outputs": []
    },
    {
      "cell_type": "code",
      "source": [
        "test_predictions = pd.Series(y_test_, name=\"Label\")\n",
        "test_predictions.index.name = \"ImageId\"\n",
        "test_predictions.index += 1 # kaggle expects one indexed predictions"
      ],
      "metadata": {
        "id": "YEJF8QXkZCpW"
      },
      "execution_count": 37,
      "outputs": []
    },
    {
      "cell_type": "code",
      "source": [
        "test_predictions.to_csv(\"/content/drive/MyDrive/mnist/cnn_predictions.csv\")"
      ],
      "metadata": {
        "id": "u_vsTyWUZfyx"
      },
      "execution_count": 39,
      "outputs": []
    },
    {
      "cell_type": "markdown",
      "source": [
        "Submitted to kaggle and got an accuracy of 0.9805"
      ],
      "metadata": {
        "id": "Rxkrg2DIabt_"
      }
    }
  ],
  "metadata": {
    "kernelspec": {
      "display_name": "Python 3",
      "name": "python3"
    },
    "language_info": {
      "codemirror_mode": {
        "name": "ipython",
        "version": 3
      },
      "file_extension": ".py",
      "mimetype": "text/x-python",
      "name": "python",
      "nbconvert_exporter": "python",
      "pygments_lexer": "ipython3",
      "version": "3.8.16"
    },
    "orig_nbformat": 4,
    "colab": {
      "provenance": [],
      "gpuType": "T4"
    },
    "accelerator": "GPU"
  },
  "nbformat": 4,
  "nbformat_minor": 0
}