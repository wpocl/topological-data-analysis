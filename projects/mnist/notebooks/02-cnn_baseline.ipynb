{
  "cells": [
    {
      "cell_type": "code",
      "execution_count": 82,
      "metadata": {
        "id": "kVunsLk6R4dm"
      },
      "outputs": [],
      "source": [
        "import numpy as np\n",
        "import pandas as pd\n",
        "import matplotlib.pyplot as plt\n",
        "import torch\n",
        "import torch.nn as nn\n",
        "from sklearn.metrics import accuracy_score\n",
        "from sklearn.metrics import confusion_matrix, ConfusionMatrixDisplay\n",
        "\n",
        "from google.colab import drive"
      ]
    },
    {
      "cell_type": "code",
      "execution_count": 83,
      "metadata": {
        "id": "U7rlEeBPSnNy"
      },
      "outputs": [],
      "source": [
        "plt.style.use(\"ggplot\")"
      ]
    },
    {
      "cell_type": "code",
      "execution_count": 84,
      "metadata": {
        "colab": {
          "base_uri": "https://localhost:8080/"
        },
        "id": "jP2UlSSoSATV",
        "outputId": "bd52da52-ff05-4bb4-f3ee-d49596bcb4c6"
      },
      "outputs": [
        {
          "output_type": "stream",
          "name": "stdout",
          "text": [
            "Drive already mounted at /content/drive; to attempt to forcibly remount, call drive.mount(\"/content/drive\", force_remount=True).\n"
          ]
        }
      ],
      "source": [
        "drive.mount(\"/content/drive\")"
      ]
    },
    {
      "cell_type": "code",
      "execution_count": 85,
      "metadata": {
        "id": "gCCSiLlGS2k3"
      },
      "outputs": [],
      "source": [
        "device = torch.device('cuda' if torch.cuda.is_available() else 'cpu')"
      ]
    },
    {
      "cell_type": "code",
      "execution_count": 86,
      "metadata": {
        "id": "hArgNJapR4dw"
      },
      "outputs": [],
      "source": [
        "# train = pd.read_csv(\"drive/data/raw/train.csv\")\n",
        "# test = pd.read_csv(\"data/raw/test.csv\")\n",
        "\n",
        "train = pd.read_csv(\"/content/drive/MyDrive/mnist/train.csv\")\n",
        "test = pd.read_csv(\"/content/drive/MyDrive/mnist/test.csv\")"
      ]
    },
    {
      "cell_type": "code",
      "execution_count": 87,
      "metadata": {
        "id": "CsS5qJo-R4dw"
      },
      "outputs": [],
      "source": [
        "X_train = train.drop(columns=\"label\").values\n",
        "y_train = train[\"label\"].values"
      ]
    },
    {
      "cell_type": "code",
      "execution_count": 88,
      "metadata": {
        "id": "KwQ1EBODR4dw"
      },
      "outputs": [],
      "source": [
        "X_test = test.values"
      ]
    },
    {
      "cell_type": "code",
      "execution_count": 89,
      "metadata": {
        "id": "0kvOpSA7R4dw"
      },
      "outputs": [],
      "source": [
        "# Normalize the data\n",
        "X_train = X_train / 255\n",
        "X_test = X_test / 255"
      ]
    },
    {
      "cell_type": "code",
      "execution_count": 90,
      "metadata": {
        "id": "LNvOPKBvR4dx"
      },
      "outputs": [],
      "source": [
        "# Reshape to image format\n",
        "X_train = X_train.reshape(-1, 1, 28, 28)\n",
        "X_test = X_test.reshape(-1, 1, 28, 28)"
      ]
    },
    {
      "cell_type": "code",
      "execution_count": 91,
      "metadata": {
        "id": "O2k6U1_-YC3N"
      },
      "outputs": [],
      "source": [
        "# One hot encoding\n",
        "y_train_oh = torch.eye(10)[y_train]"
      ]
    },
    {
      "cell_type": "code",
      "execution_count": 92,
      "metadata": {
        "id": "wBivPCbcR4dx"
      },
      "outputs": [],
      "source": [
        "# Convert X, y to tensor\n",
        "X_train = torch.Tensor(X_train)\n",
        "y_train_oh = torch.Tensor(y_train_oh)\n",
        "\n",
        "X_test = torch.Tensor(X_test)"
      ]
    },
    {
      "cell_type": "code",
      "execution_count": 93,
      "metadata": {
        "id": "xETCwVrLR4dy"
      },
      "outputs": [],
      "source": [
        "class CNN(nn.Module):\n",
        "    def __init__(self,\n",
        "                 num_filters1=8,\n",
        "                 num_filters2=16,\n",
        "                 num_hidden_units=256):\n",
        "        super(CNN, self).__init__()\n",
        "\n",
        "        self.conv1 = nn.Conv2d(1, num_filters1, kernel_size=5, padding=2)\n",
        "        self.relu1 = nn.ReLU()\n",
        "        self.pool1 = nn.MaxPool2d(kernel_size=2, stride=2)\n",
        "        self.dropout1 = nn.Dropout(0.25)\n",
        "\n",
        "        self.conv2 = nn.Conv2d(num_filters1, num_filters2,\n",
        "                               kernel_size=3,padding=1)\n",
        "        self.relu2 = nn.ReLU()\n",
        "        self.pool2 = nn.MaxPool2d(kernel_size=2, stride=2)\n",
        "        self.dropout2 = nn.Dropout(0.25)\n",
        "\n",
        "        self.flatten = nn.Flatten()\n",
        "        self.fc1 = nn.Linear(num_filters2 * 7 * 7, num_hidden_units)\n",
        "        self.relu3 = nn.ReLU()\n",
        "        self.dropout3 = nn.Dropout(0.5)\n",
        "        self.fc2 = nn.Linear(num_hidden_units, 10)\n",
        "        self.softmax = nn.Softmax(dim=1)\n",
        "\n",
        "    def forward(self, x):\n",
        "        x = self.conv1(x)\n",
        "        x = self.relu1(x)\n",
        "        x = self.pool1(x)\n",
        "        x = self.dropout1(x)\n",
        "\n",
        "        x = self.conv2(x)\n",
        "        x = self.relu2(x)\n",
        "        x = self.pool2(x)\n",
        "        x = self.dropout2(x)\n",
        "\n",
        "        x = self.flatten(x)\n",
        "        x = self.fc1(x)\n",
        "        x = self.relu3(x)\n",
        "        x = self.dropout3(x)\n",
        "        x = self.fc2(x)\n",
        "        x = self.softmax(x)\n",
        "\n",
        "        return x"
      ]
    },
    {
      "cell_type": "code",
      "execution_count": 94,
      "metadata": {
        "id": "75a796yJR4dy"
      },
      "outputs": [],
      "source": [
        "num_samples = X_train.shape[0]"
      ]
    },
    {
      "cell_type": "code",
      "execution_count": 102,
      "metadata": {
        "id": "mz5OdmcLR4dy"
      },
      "outputs": [],
      "source": [
        "num_filters1 = 8\n",
        "num_filters2 = 16\n",
        "num_hidden_units=256\n",
        "learning_rate = 0.001\n",
        "num_epochs = 200\n",
        "batch_size = 500\n",
        "\n",
        "model = CNN(num_filters1=num_filters1, num_filters2=num_filters2,\n",
        "            num_hidden_units=num_hidden_units)\n",
        "\n",
        "# Move the model, input data, and labels to the GPU\n",
        "model = model.to(device)\n",
        "X_train = X_train.to(device)\n",
        "y_train_oh = y_train_oh.to(device)\n",
        "\n",
        "criterion = nn.CrossEntropyLoss()\n",
        "optimizer = torch.optim.Adam(model.parameters(), lr=learning_rate)\n",
        "\n",
        "for epoch in range(num_epochs):\n",
        "    for start_index in range(0, num_samples, batch_size):\n",
        "        end_index = start_index + batch_size\n",
        "        if end_index > num_samples: continue\n",
        "        X_batch = X_train[start_index: end_index]\n",
        "        y_batch = y_train_oh[start_index: end_index]\n",
        "\n",
        "        # Forward pass\n",
        "        y_batch_ = model(X_batch)\n",
        "        loss = criterion(y_batch_, y_batch)\n",
        "\n",
        "        # Backward pass and optimization\n",
        "        optimizer.zero_grad()\n",
        "        loss.backward()\n",
        "        optimizer.step()"
      ]
    },
    {
      "cell_type": "code",
      "execution_count": 103,
      "metadata": {
        "colab": {
          "base_uri": "https://localhost:8080/"
        },
        "id": "Jx9UdMreR4dz",
        "outputId": "723bb997-f5c3-40d8-d931-25dd5c3fa67b"
      },
      "outputs": [
        {
          "output_type": "stream",
          "name": "stdout",
          "text": [
            "Training accuracy: 0.9894761904761905\n"
          ]
        }
      ],
      "source": [
        "y_train_oh_ = model(X_train)\n",
        "y_train_ = torch.argmax(y_train_oh_, dim=1).cpu().numpy()\n",
        "\n",
        "accuracy = accuracy_score(y_train, y_train_)\n",
        "\n",
        "print(f\"Training accuracy: {accuracy}\")"
      ]
    },
    {
      "cell_type": "code",
      "source": [
        "disp = ConfusionMatrixDisplay(confusion_matrix(y_train, y_train_))\n",
        "disp.plot()"
      ],
      "metadata": {
        "id": "xWs-KKSxYvwk",
        "outputId": "b99d9abf-7017-454b-af18-0adb6f7e5b69",
        "colab": {
          "base_uri": "https://localhost:8080/",
          "height": 470
        }
      },
      "execution_count": 104,
      "outputs": [
        {
          "output_type": "execute_result",
          "data": {
            "text/plain": [
              "<sklearn.metrics._plot.confusion_matrix.ConfusionMatrixDisplay at 0x7fb23fe910c0>"
            ]
          },
          "metadata": {},
          "execution_count": 104
        },
        {
          "output_type": "display_data",
          "data": {
            "text/plain": [
              "<Figure size 640x480 with 2 Axes>"
            ],
            "image/png": "[encoded data removed]"
          },
          "metadata": {}
        }
      ]
    },
    {
      "cell_type": "code",
      "execution_count": 105,
      "metadata": {
        "id": "vzBkwhD9XCHE"
      },
      "outputs": [],
      "source": [
        "# Move X_test to GPU\n",
        "X_test = X_test.to(device)\n",
        "\n",
        "# Make predictions from X_test\n",
        "y_test_oh_ = model(X_test)\n",
        "y_test_ = torch.argmax(y_test_oh_, dim=1).cpu().numpy()"
      ]
    },
    {
      "cell_type": "code",
      "execution_count": 106,
      "metadata": {
        "id": "YEJF8QXkZCpW"
      },
      "outputs": [],
      "source": [
        "test_predictions = pd.Series(y_test_, name=\"Label\")\n",
        "test_predictions.index.name = \"ImageId\"\n",
        "test_predictions.index += 1 # kaggle expects one indexed predictions"
      ]
    },
    {
      "cell_type": "code",
      "source": [
        "from sklearn.metrics import confusion_matrix, ConfusionMatrixDisplay"
      ],
      "metadata": {
        "id": "bul4u7DoYjrJ"
      },
      "execution_count": 107,
      "outputs": []
    },
    {
      "cell_type": "code",
      "execution_count": 108,
      "metadata": {
        "id": "u_vsTyWUZfyx"
      },
      "outputs": [],
      "source": [
        "test_predictions.to_csv(\"/content/drive/MyDrive/mnist/cnn_baseline.csv\")"
      ]
    },
    {
      "cell_type": "markdown",
      "metadata": {
        "id": "Rxkrg2DIabt_"
      },
      "source": [
        "Submitted to kaggle and got an accuracy of 0.9805"
      ]
    }
  ],
  "metadata": {
    "accelerator": "GPU",
    "colab": {
      "gpuType": "T4",
      "provenance": []
    },
    "kernelspec": {
      "display_name": "Python 3",
      "name": "python3"
    },
    "language_info": {
      "codemirror_mode": {
        "name": "ipython",
        "version": 3
      },
      "file_extension": ".py",
      "mimetype": "text/x-python",
      "name": "python",
      "nbconvert_exporter": "python",
      "pygments_lexer": "ipython3",
      "version": "3.8.16"
    },
    "orig_nbformat": 4
  },
  "nbformat": 4,
  "nbformat_minor": 0
}