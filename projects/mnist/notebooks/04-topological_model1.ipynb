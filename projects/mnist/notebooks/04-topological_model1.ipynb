{
  "nbformat": 4,
  "nbformat_minor": 0,
  "metadata": {
    "colab": {
      "provenance": [],
      "gpuType": "T4",
      "authorship_tag": "ABX9TyM97w2HlfOyo+Tuk5+Wt1mi",
      "include_colab_link": true
    },
    "kernelspec": {
      "name": "python3",
      "display_name": "Python 3"
    },
    "language_info": {
      "name": "python"
    },
    "accelerator": "GPU"
  },
  "cells": [
    {
      "cell_type": "markdown",
      "metadata": {
        "id": "view-in-github",
        "colab_type": "text"
      },
      "source": [
        "<a href=\"https://colab.research.google.com/github/wpocl/topological-data-analysis/blob/main/projects/mnist/notebooks/topological_model1.ipynb\" target=\"_parent\"><img src=\"https://colab.research.google.com/assets/colab-badge.svg\" alt=\"Open In Colab\"/></a>"
      ]
    },
    {
      "cell_type": "code",
      "execution_count": null,
      "metadata": {
        "id": "CYMxphooayvj"
      },
      "outputs": [],
      "source": [
        "! pip install giotto-tda"
      ]
    },
    {
      "cell_type": "code",
      "source": [
        "import numpy as np\n",
        "import pandas as pd\n",
        "import matplotlib.pyplot as plt\n",
        "import torch\n",
        "import torch.nn as nn\n",
        "from sklearn.metrics import accuracy_score\n",
        "from gtda.homology import CubicalPersistence\n",
        "from sklearn.metrics import confusion_matrix, ConfusionMatrixDisplay\n",
        "\n",
        "from google.colab import drive"
      ],
      "metadata": {
        "id": "HDLppjWccN_f"
      },
      "execution_count": 2,
      "outputs": []
    },
    {
      "cell_type": "code",
      "source": [
        "plt.style.use(\"ggplot\")\n",
        "drive.mount(\"/content/drive\")"
      ],
      "metadata": {
        "colab": {
          "base_uri": "https://localhost:8080/"
        },
        "id": "9tQ9rRNFc31b",
        "outputId": "4e2df028-cb8e-4588-9897-5d2c4fa56588"
      },
      "execution_count": 3,
      "outputs": [
        {
          "output_type": "stream",
          "name": "stdout",
          "text": [
            "Mounted at /content/drive\n"
          ]
        }
      ]
    },
    {
      "cell_type": "code",
      "source": [
        "device = torch.device('cuda' if torch.cuda.is_available() else 'cpu')"
      ],
      "metadata": {
        "id": "JBDjPFsIc6rH"
      },
      "execution_count": 4,
      "outputs": []
    },
    {
      "cell_type": "code",
      "source": [
        "train = pd.read_csv(\"/content/drive/MyDrive/mnist/train.csv\")\n",
        "test = pd.read_csv(\"/content/drive/MyDrive/mnist/test.csv\")"
      ],
      "metadata": {
        "id": "sqCgW5H7dHt1"
      },
      "execution_count": 5,
      "outputs": []
    },
    {
      "cell_type": "code",
      "source": [
        "train_images = train.drop(columns=\"label\").values\n",
        "train_labels = train[\"label\"].values"
      ],
      "metadata": {
        "id": "DCQhIIV9dJY4"
      },
      "execution_count": 6,
      "outputs": []
    },
    {
      "cell_type": "code",
      "source": [
        "# Normalise the train images\n",
        "train_images = train_images / 255"
      ],
      "metadata": {
        "id": "Rx-2g5p5dLNC"
      },
      "execution_count": 7,
      "outputs": []
    },
    {
      "cell_type": "code",
      "source": [
        "# Reshape to image format\n",
        "train_images = train_images.reshape(-1, 1, 28, 28)"
      ],
      "metadata": {
        "id": "pLAALx3YdMua"
      },
      "execution_count": 8,
      "outputs": []
    },
    {
      "cell_type": "code",
      "source": [
        "cubical = CubicalPersistence(homology_dimensions=[0, 1])\n",
        "train_diagrams = cubical.fit_transform(train_images)"
      ],
      "metadata": {
        "id": "5hJn4c3bdOdm"
      },
      "execution_count": 9,
      "outputs": []
    },
    {
      "cell_type": "code",
      "source": [
        "train_diagrams.shape[0]"
      ],
      "metadata": {
        "colab": {
          "base_uri": "https://localhost:8080/"
        },
        "id": "MeAso8yHhC9-",
        "outputId": "825e9c5c-98b8-4cd5-91de-6d2f5b970871"
      },
      "execution_count": 10,
      "outputs": [
        {
          "output_type": "execute_result",
          "data": {
            "text/plain": [
              "42000"
            ]
          },
          "metadata": {},
          "execution_count": 10
        }
      ]
    },
    {
      "cell_type": "code",
      "source": [
        "shape = (42000, -1, 3)\n",
        "\n",
        "# Create persistence diagrams for 0-th homology dimension\n",
        "train_diagrams0 = train_diagrams[train_diagrams[:, :, 2] == 0]\n",
        "train_diagrams0 = train_diagrams0.reshape(shape)[:, :, :2]\n",
        "\n",
        "# Create persistence diagrams for 1-st homology dimension\n",
        "train_diagrams1 = train_diagrams[train_diagrams[:, :, 2] == 1]\n",
        "train_diagrams1 = train_diagrams1.reshape(shape)[:, :, :2]"
      ],
      "metadata": {
        "id": "MpXxvyC2d3wC"
      },
      "execution_count": 11,
      "outputs": []
    },
    {
      "cell_type": "code",
      "source": [
        "#@title\n",
        "import torch\n",
        "import numpy as np\n",
        "from torch.nn.parameter import Parameter\n",
        "from torch.nn.modules.module import Module\n",
        "from torch import Tensor\n",
        "\n",
        "def prepare_batch(batch, point_dim):\n",
        "    \"\"\"\n",
        "    This method 'vectorizes' the multiset in order to take advances of GPU\n",
        "    processing. The policy is to embed all multisets in batch to the highest\n",
        "    dimensionality occurring in batch, i.e., ``max(t.size()[0]`` for ``t`` in batch).\n",
        "\n",
        "    Args:\n",
        "        batch:\n",
        "            The input batch to process as a list of tensors.\n",
        "\n",
        "        point_dim:\n",
        "            The dimension of the points the inputs consist of.\n",
        "\n",
        "    Returns:\n",
        "        A four-tuple consisting of (1) the constructed ``batch``, i.e., a\n",
        "        tensor with size\n",
        "        ``batch_size`` x ``n_max_points`` x ``point_dim``; (2) a tensor\n",
        "        ``not_dummy`` of size ``batch_size`` x ``n_max_points``, where\n",
        "        ``1`` at position (i,j) indicates if the point is a dummy point,\n",
        "        whereas ``0`` indicates a dummy point used for padding; (3)\n",
        "        the max. number of points and (4) the batch size.\n",
        "\n",
        "    Example::\n",
        "\n",
        "        >>> from torchph.nn.slayer import prepare_batch\n",
        "        >>> import torch\n",
        "        >>> x = [torch.rand(10,2), torch.rand(20,2)]\n",
        "        >>> batch, not_dummy, max_pts, batch_size = prepare_batch(x)\n",
        "    \"\"\"\n",
        "    if point_dim is None:\n",
        "        point_dim = batch[0].size(1)\n",
        "    assert (all(x.size(1) == point_dim for x in batch if len(x) != 0))\n",
        "\n",
        "    batch_size = len(batch)\n",
        "    batch_max_points = max([t.size(0) for t in batch])\n",
        "    input_device = batch[0].device\n",
        "\n",
        "    if batch_max_points == 0:\n",
        "        # if we are here, batch consists only of empty diagrams.\n",
        "        batch_max_points = 1\n",
        "\n",
        "    # This will later be used to set the dummy points to zero in the output.\n",
        "    not_dummy_points = torch.zeros(\n",
        "        batch_size,\n",
        "        batch_max_points,\n",
        "        device=input_device)\n",
        "\n",
        "    prepared_batch = []\n",
        "\n",
        "    for i, multi_set in enumerate(batch):\n",
        "        n_points = multi_set.size(0)\n",
        "\n",
        "        prepared_dgm = torch.zeros(\n",
        "            batch_max_points,\n",
        "            point_dim,\n",
        "            device=input_device)\n",
        "\n",
        "        if n_points > 0:\n",
        "            index_selection = torch.tensor(range(n_points),\n",
        "                                           device=input_device)\n",
        "\n",
        "            prepared_dgm.index_add_(0, index_selection, multi_set)\n",
        "\n",
        "            not_dummy_points[i, :n_points] = 1\n",
        "\n",
        "        prepared_batch.append(prepared_dgm)\n",
        "\n",
        "    prepared_batch = torch.stack(prepared_batch)\n",
        "\n",
        "    return prepared_batch, not_dummy_points, batch_max_points, batch_size\n",
        "\n",
        "\n",
        "def is_prepared_batch(input):\n",
        "    if not (isinstance(input, tuple) and len(input) == 4):\n",
        "        return False\n",
        "    else:\n",
        "        batch, not_dummy_points, max_points, batch_size = input\n",
        "        return isinstance(batch, Tensor) and isinstance(not_dummy_points, Tensor) and max_points > 0 and batch_size > 0\n",
        "\n",
        "\n",
        "def is_list_of_tensors(input):\n",
        "    try:\n",
        "        return all([isinstance(x, Tensor) for x in input])\n",
        "\n",
        "    except TypeError:\n",
        "        return False\n",
        "\n",
        "\n",
        "def prepare_batch_if_necessary(input, point_dimension=None):\n",
        "    batch, not_dummy_points, max_points, batch_size = None, None, None, None\n",
        "\n",
        "    if is_prepared_batch(input):\n",
        "        batch, not_dummy_points, max_points, batch_size = input\n",
        "    elif is_list_of_tensors(input):\n",
        "        if point_dimension is None:\n",
        "            point_dimension = input[0].size(1)\n",
        "\n",
        "        batch, not_dummy_points, max_points, batch_size = prepare_batch(\n",
        "            input,\n",
        "            point_dimension)\n",
        "\n",
        "    else:\n",
        "        raise ValueError(\n",
        "            'SLayer does not recognize input format! Expecting [Tensor] or \\\n",
        "             prepared batch. Not {}'.format(input))\n",
        "\n",
        "    return batch, not_dummy_points, max_points, batch_size\n",
        "\n",
        "\n",
        "def parameter_init_from_arg(arg, size, default, scalar_is_valid=False):\n",
        "    if isinstance(arg, (int, float)):\n",
        "        if not scalar_is_valid:\n",
        "            raise ValueError('Scalar initialization values are not valid. \\\n",
        "                              Got {} expected Tensor of size {}.'\n",
        "                             .format(arg, size))\n",
        "        return torch.Tensor(*size).fill_(arg)\n",
        "    elif isinstance(arg, torch.Tensor):\n",
        "        assert(arg.size() == size)\n",
        "        return arg\n",
        "    elif arg is None:\n",
        "        if default in [torch.rand, torch.randn, torch.ones, torch.ones_like]:\n",
        "            return default(*size)\n",
        "        else:\n",
        "            return default(size)\n",
        "    else:\n",
        "        raise ValueError('Cannot handle parameter initialization. \\\n",
        "                          Got \"{}\" '.format(arg))\n",
        "\n",
        "\n",
        "class SLayerExponential(Module):\n",
        "    \"\"\"\n",
        "    Proposed input layer for multisets [1].\n",
        "    \"\"\"\n",
        "    def __init__(self, n_elements: int,\n",
        "                 point_dimension: int=2,\n",
        "                 centers_init: Tensor=None,\n",
        "                 sharpness_init: Tensor=None):\n",
        "        \"\"\"\n",
        "        Args:\n",
        "            n_elements:\n",
        "                Number of structure elements used.\n",
        "\n",
        "            point_dimension: D\n",
        "                Dimensionality of the points of which the\n",
        "                input multi set consists of.\n",
        "\n",
        "            centers_init:\n",
        "                The initialization for the centers of the structure elements.\n",
        "\n",
        "            sharpness_init:\n",
        "                Initialization for the sharpness of the structure elements.\n",
        "        \"\"\"\n",
        "        super().__init__()\n",
        "\n",
        "        self.n_elements = n_elements\n",
        "        self.point_dimension = point_dimension\n",
        "\n",
        "        expected_init_size = (self.n_elements, self.point_dimension)\n",
        "\n",
        "        centers_init = parameter_init_from_arg(\n",
        "            centers_init,\n",
        "            expected_init_size,\n",
        "            torch.rand, scalar_is_valid=False)\n",
        "        sharpness_init = parameter_init_from_arg(\n",
        "            sharpness_init,\n",
        "            expected_init_size,\n",
        "            lambda size: torch.ones(*size)*3)\n",
        "\n",
        "        self.centers = Parameter(centers_init)\n",
        "        self.sharpness = Parameter(sharpness_init)\n",
        "\n",
        "    def forward(self, input)->Tensor:\n",
        "        batch, not_dummy_points, max_points, batch_size = prepare_batch_if_necessary(\n",
        "            input,\n",
        "            point_dimension=self.point_dimension)\n",
        "\n",
        "        batch = torch.cat([batch] * self.n_elements, 1)\n",
        "\n",
        "        not_dummy_points = torch.cat([not_dummy_points] * self.n_elements, 1)\n",
        "\n",
        "        centers = torch.cat([self.centers] * max_points, 1)\n",
        "        centers = centers.view(-1, self.point_dimension)\n",
        "        centers = torch.stack([centers] * batch_size, 0)\n",
        "\n",
        "        sharpness = torch.pow(self.sharpness, 2)\n",
        "        sharpness = torch.cat([sharpness] * max_points, 1)\n",
        "        sharpness = sharpness.view(-1, self.point_dimension)\n",
        "        sharpness = torch.stack([sharpness] * batch_size, 0)\n",
        "\n",
        "        x = centers - batch\n",
        "        x = x.pow(2)\n",
        "        x = torch.mul(x, sharpness)\n",
        "        x = torch.sum(x, 2)\n",
        "        x = torch.exp(-x)\n",
        "        x = torch.mul(x, not_dummy_points)\n",
        "        x = x.view(batch_size, self.n_elements, -1)\n",
        "        x = torch.sum(x, 2)\n",
        "        x = x.squeeze()\n",
        "\n",
        "        return x\n",
        "\n",
        "    def __repr__(self):\n",
        "        return 'SLayerExponential (... -> {} )'.format(self.n_elements)"
      ],
      "metadata": {
        "cellView": "form",
        "id": "NSEUI1qwhobn"
      },
      "execution_count": 12,
      "outputs": []
    },
    {
      "cell_type": "code",
      "source": [
        "#@title\n",
        "class TopologicalModel(nn.Module):\n",
        "  def __init__(self):\n",
        "    super(TopologicalModel, self).__init__()\n",
        "\n",
        "    # Image input layers\n",
        "    self.image_conv1 = nn.Conv2d(1, 8, kernel_size=5, padding=2)\n",
        "    self.image_relu1 = nn.ReLU()\n",
        "    self.image_pool1 = nn.MaxPool2d(kernel_size=2, stride=2)\n",
        "    self.image_dropout1 = nn.Dropout(0.25)\n",
        "\n",
        "    self.image_conv2 = nn.Conv2d(8, 16, kernel_size=3,padding=1)\n",
        "    self.image_relu2 = nn.ReLU()\n",
        "    self.image_pool2 = nn.MaxPool2d(kernel_size=2, stride=2)\n",
        "    self.image_dropout2 = nn.Dropout(0.25)\n",
        "\n",
        "    self.image_flatten = nn.Flatten()\n",
        "\n",
        "    # diagram0 input layers\n",
        "    self.diagram0_slayer = SLayerExponential(32, 2)\n",
        "\n",
        "    self.diagram0_dropout1 = nn.Dropout(0.2)\n",
        "    self.diagram0_norm1 = nn.BatchNorm1d(32)\n",
        "    self.diagram0_fc1 = nn.Linear(32, 64)\n",
        "    self.diagram0_relu1 = nn.ReLU()\n",
        "\n",
        "    self.diagram0_dropout2 = nn.Dropout(0.1)\n",
        "    self.diagram0_norm2 = nn.BatchNorm1d(64)\n",
        "    self.diagram0_fc2 = nn.Linear(64, 64)\n",
        "    self.diagram0_relu2 = nn.ReLU()\n",
        "\n",
        "    self.diagram0_dropout3 = nn.Dropout(0.1)\n",
        "    self.diagram0_norm3 = nn.BatchNorm1d(64)\n",
        "    self.diagram0_fc3 = nn.Linear(64, 32)\n",
        "    self.diagram0_relu3 = nn.ReLU()\n",
        "\n",
        "    # diagram1 input layers\n",
        "    self.diagram1_slayer = SLayerExponential(32, 2)\n",
        "\n",
        "    self.diagram1_dropout1 = nn.Dropout(0.2)\n",
        "    self.diagram1_norm1 = nn.BatchNorm1d(32)\n",
        "    self.diagram1_fc1 = nn.Linear(32, 64)\n",
        "    self.diagram1_relu1 = nn.ReLU()\n",
        "\n",
        "    self.diagram1_dropout2 = nn.Dropout(0.1)\n",
        "    self.diagram1_norm2 = nn.BatchNorm1d(64)\n",
        "    self.diagram1_fc2 = nn.Linear(64, 64)\n",
        "    self.diagram1_relu2 = nn.ReLU()\n",
        "\n",
        "    self.diagram1_dropout3 = nn.Dropout(0.1)\n",
        "    self.diagram1_norm3 = nn.BatchNorm1d(64)\n",
        "    self.diagram1_fc3 = nn.Linear(64, 32)\n",
        "    self.diagram1_relu3 = nn.ReLU()\n",
        "\n",
        "    # Concatenated input layers\n",
        "    self.fc1 = nn.Linear(16 * 7 * 7 + 32 + 32, 512)\n",
        "    self.relu1 = nn.ReLU()\n",
        "    self.dropout1 = nn.Dropout(0.5)\n",
        "\n",
        "    self.fc2 = nn.Linear(512, 10)\n",
        "    self.softmax = nn.Softmax(dim=1)\n",
        "\n",
        "  def forward(self, image_input, diagram0_input, diagram1_input):\n",
        "\n",
        "    # Image input layers\n",
        "    x_image = self.image_conv1(image_input)\n",
        "    x_image = self.image_relu1(x_image)\n",
        "    x_image = self.image_pool1(x_image)\n",
        "    x_image = self.image_dropout1(x_image)\n",
        "\n",
        "    x_image = self.image_conv2(x_image)\n",
        "    x_image = self.image_relu2(x_image)\n",
        "    x_image = self.image_pool2(x_image)\n",
        "    x_image = self.image_dropout2(x_image)\n",
        "\n",
        "    x_image = self.image_flatten(x_image)\n",
        "\n",
        "    # diagram0 input layers\n",
        "    x_diagram0 = self.diagram0_slayer(diagram0_input)\n",
        "    x_diagram0 = self.diagram0_dropout1(x_diagram0)\n",
        "    x_diagram0 = self.diagram0_norm1(x_diagram0)\n",
        "    x_diagram0 = self.diagram0_fc1(x_diagram0)\n",
        "    x_diagram0 = self.diagram0_relu1(x_diagram0)\n",
        "\n",
        "    x_diagram0 = self.diagram0_dropout2(x_diagram0)\n",
        "    x_diagram0 = self.diagram0_norm2(x_diagram0)\n",
        "    x_diagram0 = self.diagram0_fc2(x_diagram0)\n",
        "    x_diagram0 = self.diagram0_relu2(x_diagram0)\n",
        "\n",
        "    x_diagram0 = self.diagram0_dropout3(x_diagram0)\n",
        "    x_diagram0 = self.diagram0_norm3(x_diagram0)\n",
        "    x_diagram0 = self.diagram0_fc3(x_diagram0)\n",
        "    x_diagram0 = self.diagram0_relu3(x_diagram0)\n",
        "\n",
        "    # diagram1 input layers\n",
        "    x_diagram1 = self.diagram1_slayer(diagram1_input)\n",
        "    x_diagram1 = self.diagram1_dropout1(x_diagram1)\n",
        "    x_diagram1 = self.diagram1_norm1(x_diagram1)\n",
        "    x_diagram1 = self.diagram1_fc1(x_diagram1)\n",
        "    x_diagram1 = self.diagram1_relu1(x_diagram1)\n",
        "\n",
        "    x_diagram1 = self.diagram1_dropout2(x_diagram1)\n",
        "    x_diagram1 = self.diagram1_norm2(x_diagram1)\n",
        "    x_diagram1 = self.diagram1_fc2(x_diagram1)\n",
        "    x_diagram1 = self.diagram1_relu2(x_diagram1)\n",
        "\n",
        "    x_diagram1 = self.diagram1_dropout3(x_diagram1)\n",
        "    x_diagram1 = self.diagram1_norm3(x_diagram1)\n",
        "    x_diagram1 = self.diagram1_fc3(x_diagram1)\n",
        "    x_diagram1 = self.diagram1_relu3(x_diagram1)\n",
        "\n",
        "    # Combine inputs\n",
        "    combined_input = torch.cat((x_image, x_diagram0, x_diagram1), dim=1)\n",
        "\n",
        "    # Concatenated input layers\n",
        "    x = self.fc1(combined_input)\n",
        "    x = self.relu1(x)\n",
        "    x = self.dropout1(x)\n",
        "\n",
        "    # Output layer\n",
        "    output = self.fc2(x)\n",
        "    output = self.softmax(output)\n",
        "\n",
        "    return output"
      ],
      "metadata": {
        "id": "uVf5I0_5h6TH"
      },
      "execution_count": 13,
      "outputs": []
    },
    {
      "cell_type": "code",
      "source": [
        "# Convert inputs and outputs to tensors on GPU\n",
        "train_images = torch.Tensor(train_images).to(device)\n",
        "train_diagrams0 = torch.Tensor(train_diagrams0).to(device)\n",
        "train_diagrams1 = torch.Tensor(train_diagrams1).to(device)\n",
        "\n",
        "train_labels_oh = torch.eye(10)[train_labels].to(device)"
      ],
      "metadata": {
        "id": "BEDD0O1mtyir"
      },
      "execution_count": 14,
      "outputs": []
    },
    {
      "cell_type": "code",
      "source": [
        "# Create model and put on GPU\n",
        "model = TopologicalModel()\n",
        "model = model.to(device)"
      ],
      "metadata": {
        "id": "7FzEEur7u3wW"
      },
      "execution_count": 15,
      "outputs": []
    },
    {
      "cell_type": "code",
      "source": [
        "learning_rate = 0.001\n",
        "num_epochs = 200\n",
        "batch_size = 500\n",
        "\n",
        "criterion = nn.CrossEntropyLoss()\n",
        "optimizer = torch.optim.Adam(model.parameters(), lr=learning_rate)"
      ],
      "metadata": {
        "id": "ESrgdQ6-vAr9"
      },
      "execution_count": 16,
      "outputs": []
    },
    {
      "cell_type": "code",
      "source": [
        "num_samples = train.shape[0]"
      ],
      "metadata": {
        "id": "V6u1tAQlvMnw"
      },
      "execution_count": 17,
      "outputs": []
    },
    {
      "cell_type": "code",
      "source": [
        "for epoch in range(num_epochs):\n",
        "\n",
        "    correct = 0\n",
        "    total = 0\n",
        "\n",
        "    for start_index in range(0, num_samples, batch_size):\n",
        "        end_index = max(start_index + batch_size, num_samples)\n",
        "\n",
        "        # Create batched inputs\n",
        "        images_batch = train_images[start_index: end_index]\n",
        "        diagrams0_batch = train_diagrams0[start_index: end_index]\n",
        "        diagrams1_batch = train_diagrams1[start_index: end_index]\n",
        "\n",
        "        # Create batched output\n",
        "        labels_batch = train_labels_oh[start_index: end_index]\n",
        "\n",
        "        # Forward pass\n",
        "        output_batch = model(images_batch, diagrams0_batch, diagrams1_batch)\n",
        "        loss = criterion(output_batch, labels_batch)\n",
        "\n",
        "        # Backward pass and optimization\n",
        "        optimizer.zero_grad()\n",
        "        loss.backward()\n",
        "        optimizer.step()\n",
        "\n",
        "        # Calculate accuracy\n",
        "        _, predicted = torch.max(output_batch, 1)\n",
        "        predicted = predicted.cpu().numpy()\n",
        "        total += labels_batch.size(0)\n",
        "        correct += (predicted == train_labels[start_index: end_index]).sum().item()\n",
        "\n",
        "    # Calculate accuracy on the training set\n",
        "    accuracy = correct / total\n",
        "    print(f\"Epoch [{epoch+1}/{num_epochs}], Train Accuracy: {accuracy:.4f}\")"
      ],
      "metadata": {
        "colab": {
          "base_uri": "https://localhost:8080/"
        },
        "id": "2BP_rkX9vI0z",
        "outputId": "ed400c25-4424-492a-fb47-fa71f9e842c2"
      },
      "execution_count": null,
      "outputs": [
        {
          "output_type": "stream",
          "name": "stdout",
          "text": [
            "Epoch [1/200], Train Accuracy: 0.6483\n",
            "Epoch [2/200], Train Accuracy: 0.8525\n",
            "Epoch [3/200], Train Accuracy: 0.9330\n",
            "Epoch [4/200], Train Accuracy: 0.9673\n",
            "Epoch [5/200], Train Accuracy: 0.9748\n",
            "Epoch [6/200], Train Accuracy: 0.9791\n"
          ]
        }
      ]
    },
    {
      "cell_type": "code",
      "source": [
        "# model = model.to(\"cpu\")\n",
        "# train_images = train_images.to(\"cpu\")\n",
        "# train_diagrams0 = train_diagrams0.to(\"cpu\")\n",
        "# train_diagrams1 = train_diagrams1.to(\"cpu\")"
      ],
      "metadata": {
        "id": "29X4vH9myp7V"
      },
      "execution_count": null,
      "outputs": []
    },
    {
      "cell_type": "code",
      "source": [
        "output = model(train_images, train_diagrams0, train_diagrams1)\n",
        "train_labels_ = torch.argmax(output, dim=1).cpu().numpy()\n",
        "\n",
        "accuracy = accuracy_score(train_labels_, train_labels)\n",
        "\n",
        "print(f\"Training accuracy: {accuracy}\")"
      ],
      "metadata": {
        "id": "90zAq9hXvND5"
      },
      "execution_count": null,
      "outputs": []
    },
    {
      "cell_type": "code",
      "source": [
        "disp = ConfusionMatrixDisplay(confusion_matrix(train_labels, train_labels_))\n",
        "disp.plot()"
      ],
      "metadata": {
        "id": "91sMpscRy9A5"
      },
      "execution_count": null,
      "outputs": []
    },
    {
      "cell_type": "code",
      "source": [],
      "metadata": {
        "id": "eFON2nxEzMKb"
      },
      "execution_count": null,
      "outputs": []
    }
  ]
}