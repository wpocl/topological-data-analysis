{
 "cells": [
  {
   "cell_type": "code",
   "execution_count": null,
   "metadata": {},
   "outputs": [],
   "source": []
  },
  {
   "cell_type": "code",
   "execution_count": null,
   "metadata": {},
   "outputs": [],
   "source": [
    "def random_walk(size, starting_price, drift_rate, variance):\n",
    "    returns = np.random.normal(loc=drift_rate, scale=variance, size=size) + 1\n",
    "    returns[0] = 1\n",
    "    p = starting_price * np.cumprod(returns)\n",
    "    return p"
   ]
  }
 ],
 "metadata": {
  "language_info": {
   "name": "python"
  },
  "orig_nbformat": 4
 },
 "nbformat": 4,
 "nbformat_minor": 2
}
