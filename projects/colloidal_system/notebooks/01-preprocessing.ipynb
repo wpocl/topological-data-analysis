{
 "cells": [
  {
   "cell_type": "code",
   "execution_count": 1,
   "metadata": {},
   "outputs": [],
   "source": [
    "import os\n",
    "import pickle\n",
    "\n",
    "import pandas as pd\n",
    "import numpy as np"
   ]
  },
  {
   "attachments": {},
   "cell_type": "markdown",
   "metadata": {},
   "source": [
    "First need to understand how data is structured."
   ]
  },
  {
   "cell_type": "code",
   "execution_count": null,
   "metadata": {},
   "outputs": [],
   "source": [
    "with open(\"data/01-raw/0/t_1000000.c\", \"r\") as file:\n",
    "        data = file.read()"
   ]
  },
  {
   "cell_type": "code",
   "execution_count": null,
   "metadata": {},
   "outputs": [],
   "source": [
    "print(data)"
   ]
  },
  {
   "cell_type": "code",
   "execution_count": 4,
   "metadata": {},
   "outputs": [],
   "source": [
    "def parse(data):\n",
    "    parsed_data = [x.split()[:2] for x in data.split(\"\\n\")[2:-1]]\n",
    "    parsed_data = np.asarray(parsed_data, dtype=float)\n",
    "    return parsed_data"
   ]
  },
  {
   "cell_type": "code",
   "execution_count": 70,
   "metadata": {},
   "outputs": [
    {
     "data": {
      "text/plain": [
       "(1000, 2)"
      ]
     },
     "execution_count": 70,
     "metadata": {},
     "output_type": "execute_result"
    }
   ],
   "source": [
    "parse(data).shape"
   ]
  },
  {
   "cell_type": "code",
   "execution_count": 71,
   "metadata": {},
   "outputs": [
    {
     "data": {
      "text/plain": [
       "21"
      ]
     },
     "execution_count": 71,
     "metadata": {},
     "output_type": "execute_result"
    }
   ],
   "source": [
    "count = 0\n",
    "for file_name in os.listdir(\"data/01-raw/0/\"):\n",
    "    if file_name.startswith(\"t_\"):\n",
    "        count += 1\n",
    "\n",
    "count"
   ]
  },
  {
   "attachments": {},
   "cell_type": "markdown",
   "metadata": {},
   "source": [
    "There are 26 folders corresponding to different values of n_p as described in  \n",
    "key. Each folder contains 21 different samples for this value of n_p, each  \n",
    "sample consists of 1000 2-dimensional coordinates.\n",
    "\n",
    "We will therefore store the data in a numpy array with shape (26, 21, 1000, 2).  \n",
    "To keep track of things, we'll also store a pandas frame containing 21 x 25  \n",
    "entries, tracking the samples for different values of Phi and n_p. This pandas  \n",
    "frame will be used as a template for later investigation."
   ]
  },
  {
   "cell_type": "code",
   "execution_count": 72,
   "metadata": {},
   "outputs": [
    {
     "name": "stdout",
     "output_type": "stream",
     "text": [
      ".DS_Store\n",
      "0\n",
      "1\n",
      "10\n",
      "11\n",
      "12\n",
      "13\n",
      "14\n",
      "15\n",
      "16\n",
      "17\n",
      "18\n",
      "19\n",
      "2\n",
      "20\n",
      "21\n",
      "22\n",
      "23\n",
      "24\n",
      "25\n",
      "3\n",
      "4\n",
      "5\n",
      "6\n",
      "7\n",
      "8\n",
      "9\n",
      "README.md\n",
      "key.txt\n"
     ]
    }
   ],
   "source": [
    "for folder_name in sorted(os.listdir(\"data/01-raw/\")):\n",
    "    print(folder_name)"
   ]
  },
  {
   "attachments": {},
   "cell_type": "markdown",
   "metadata": {},
   "source": [
    "Need to pad the names with zeros on the left so can iterate over in order. "
   ]
  },
  {
   "cell_type": "code",
   "execution_count": 2,
   "metadata": {},
   "outputs": [],
   "source": [
    "raw_data_path = \"data/01-raw/\"\n",
    "\n",
    "for folder_name in os.listdir(raw_data_path):\n",
    "    if folder_name.isdigit():\n",
    "        new_folder_name = folder_name.zfill(2)\n",
    "        os.rename(raw_data_path + folder_name, raw_data_path + new_folder_name)"
   ]
  },
  {
   "cell_type": "code",
   "execution_count": 5,
   "metadata": {},
   "outputs": [],
   "source": [
    "raw_data = [] \n",
    "for folder_name in sorted(os.listdir(raw_data_path)):\n",
    "    # Ignore folders which aren't a digit\n",
    "    if not folder_name.isdigit():\n",
    "        continue\n",
    "    \n",
    "    samples = []\n",
    "\n",
    "    # Access samples from folder in time order.\n",
    "    is_sample = lambda x : x.startswith(\"t_\")\n",
    "    for file_name in sorted(\n",
    "        filter(is_sample, os.listdir(raw_data_path + folder_name)),\n",
    "        key=lambda x: int(x[2:-2])\n",
    "    ):\n",
    "        with open(raw_data_path + folder_name + \"/\" + file_name, \"r\") as file:\n",
    "            data = file.read()\n",
    "            data = parse(data)\n",
    "        \n",
    "        samples.append(data) \n",
    "    \n",
    "    raw_data.append(samples) "
   ]
  },
  {
   "cell_type": "code",
   "execution_count": 6,
   "metadata": {},
   "outputs": [],
   "source": [
    "raw_data = np.array(raw_data)"
   ]
  },
  {
   "cell_type": "code",
   "execution_count": 7,
   "metadata": {},
   "outputs": [
    {
     "data": {
      "text/plain": [
       "(26, 21, 1000, 2)"
      ]
     },
     "execution_count": 7,
     "metadata": {},
     "output_type": "execute_result"
    }
   ],
   "source": [
    "raw_data.shape"
   ]
  },
  {
   "cell_type": "code",
   "execution_count": 97,
   "metadata": {},
   "outputs": [
    {
     "name": "stdout",
     "output_type": "stream",
     "text": [
      "id n_b Phi\n",
      "0 0.5 0.25\n",
      "1 0.6 0.25\n",
      "2 0.7 0.25\n",
      "...\n",
      "...\n",
      "...\n",
      "25 3.0 0.25\n"
     ]
    }
   ],
   "source": [
    "with open(raw_data_path + \"key.txt\", \"r\") as file:\n",
    "    print(file.read())"
   ]
  },
  {
   "cell_type": "code",
   "execution_count": 8,
   "metadata": {},
   "outputs": [],
   "source": [
    "n_b = np.arange(0.5, 3.1, 0.1)\n",
    "Phi = [0.25]"
   ]
  },
  {
   "cell_type": "code",
   "execution_count": 9,
   "metadata": {},
   "outputs": [],
   "source": [
    "t = []\n",
    "for file_name in filter(is_sample, os.listdir(raw_data_path + \"00/\")):\n",
    "    t.append(int(file_name[2:-2]))\n",
    "t.sort()"
   ]
  },
  {
   "cell_type": "code",
   "execution_count": 10,
   "metadata": {},
   "outputs": [],
   "source": [
    "key = pd.DataFrame(index=t, columns=pd.MultiIndex.from_product([Phi, n_b]),\n",
    "                   dtype=float)"
   ]
  },
  {
   "attachments": {},
   "cell_type": "markdown",
   "metadata": {},
   "source": [
    "Save data."
   ]
  },
  {
   "cell_type": "code",
   "execution_count": 11,
   "metadata": {},
   "outputs": [],
   "source": [
    "with open(\"data/02-preprocessed/data.pickle\", \"wb\") as file:\n",
    "    pickle.dump(raw_data, file)\n",
    "\n",
    "key.to_pickle(\"data/02-preprocessed/key.pickle\")"
   ]
  }
 ],
 "metadata": {
  "kernelspec": {
   "display_name": "tda2",
   "language": "python",
   "name": "python3"
  },
  "language_info": {
   "codemirror_mode": {
    "name": "ipython",
    "version": 3
   },
   "file_extension": ".py",
   "mimetype": "text/x-python",
   "name": "python",
   "nbconvert_exporter": "python",
   "pygments_lexer": "ipython3",
   "version": "3.8.16"
  },
  "orig_nbformat": 4
 },
 "nbformat": 4,
 "nbformat_minor": 2
}
