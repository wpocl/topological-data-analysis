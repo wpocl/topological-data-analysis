{
  "nbformat": 4,
  "nbformat_minor": 0,
  "metadata": {
    "colab": {
      "provenance": [],
      "gpuType": "T4",
      "authorship_tag": "ABX9TyPphCo6WG8MejMLEOnG4fi8",
      "include_colab_link": true
    },
    "kernelspec": {
      "name": "python3",
      "display_name": "Python 3"
    },
    "language_info": {
      "name": "python"
    },
    "accelerator": "GPU"
  },
  "cells": [
    {
      "cell_type": "markdown",
      "metadata": {
        "id": "view-in-github",
        "colab_type": "text"
      },
      "source": [
        "<a href=\"https://colab.research.google.com/github/wpocl/topological-data-analysis/blob/main/03-practice_model_with_topological_signatures.ipynb\" target=\"_parent\"><img src=\"https://colab.research.google.com/assets/colab-badge.svg\" alt=\"Open In Colab\"/></a>"
      ]
    },
    {
      "cell_type": "code",
      "source": [
        "!pip install giotto-tda"
      ],
      "metadata": {
        "id": "cL_UOYJRK1mj"
      },
      "execution_count": null,
      "outputs": []
    },
    {
      "cell_type": "code",
      "execution_count": null,
      "metadata": {
        "id": "aUtmsinZ_989"
      },
      "outputs": [],
      "source": [
        "import numpy as np\n",
        "import pandas as pd\n",
        "import matplotlib.pyplot as plt\n",
        "import torch\n",
        "import torch.nn as nn\n",
        "from sklearn.metrics import accuracy_score\n",
        "from gtda.homology import CubicalPersistence\n",
        "\n",
        "from google.colab import drive"
      ]
    },
    {
      "cell_type": "code",
      "source": [
        "plt.style.use(\"ggplot\")"
      ],
      "metadata": {
        "id": "GWDbL7FhADc_"
      },
      "execution_count": null,
      "outputs": []
    },
    {
      "cell_type": "code",
      "source": [
        "drive.mount(\"/content/drive\")"
      ],
      "metadata": {
        "colab": {
          "base_uri": "https://localhost:8080/"
        },
        "id": "lwy2OMpWAFVl",
        "outputId": "a352c261-9944-4a7d-f897-715e409d49af"
      },
      "execution_count": null,
      "outputs": [
        {
          "output_type": "stream",
          "name": "stdout",
          "text": [
            "Mounted at /content/drive\n"
          ]
        }
      ]
    },
    {
      "cell_type": "code",
      "source": [
        "device = torch.device('cuda' if torch.cuda.is_available() else 'cpu')"
      ],
      "metadata": {
        "id": "jeFaqwrFALoI"
      },
      "execution_count": null,
      "outputs": []
    },
    {
      "cell_type": "code",
      "source": [
        "train = pd.read_csv(\"/content/drive/MyDrive/mnist/train.csv\")\n",
        "test = pd.read_csv(\"/content/drive/MyDrive/mnist/test.csv\")"
      ],
      "metadata": {
        "id": "arNJFTDgAM1g"
      },
      "execution_count": null,
      "outputs": []
    },
    {
      "cell_type": "code",
      "source": [
        "train_images = train.drop(columns=\"label\").values\n",
        "train_labels = train[\"label\"].values"
      ],
      "metadata": {
        "id": "GGnYnelVAPX_"
      },
      "execution_count": null,
      "outputs": []
    },
    {
      "cell_type": "code",
      "source": [
        "# Normalise the train images\n",
        "train_images = train_images / 255"
      ],
      "metadata": {
        "id": "baKgd953AeBw"
      },
      "execution_count": null,
      "outputs": []
    },
    {
      "cell_type": "code",
      "source": [
        "# Reshape to image format\n",
        "train_images = train_images.reshape(-1, 1, 28, 28)"
      ],
      "metadata": {
        "id": "5zHlB2ubAt8A"
      },
      "execution_count": null,
      "outputs": []
    },
    {
      "cell_type": "code",
      "source": [
        "cubical = CubicalPersistence(homology_dimensions=[0])"
      ],
      "metadata": {
        "id": "tTAcSddHI8Dh"
      },
      "execution_count": null,
      "outputs": []
    },
    {
      "cell_type": "code",
      "source": [
        "train_diagrams = cubical.fit_transform(train_images)\n",
        "train_diagrams = train_diagrams[:, :, :2]"
      ],
      "metadata": {
        "id": "YA51QiUyPlmL"
      },
      "execution_count": null,
      "outputs": []
    },
    {
      "cell_type": "code",
      "source": [
        "#@title\n",
        "import torch\n",
        "import numpy as np\n",
        "from torch.nn.parameter import Parameter\n",
        "from torch.nn.modules.module import Module\n",
        "from torch import Tensor"
      ],
      "metadata": {
        "cellView": "form",
        "id": "cC4tp5oRH9j-"
      },
      "execution_count": null,
      "outputs": []
    },
    {
      "cell_type": "code",
      "source": [
        "#@title\n",
        "def prepare_batch(batch, point_dim):\n",
        "    \"\"\"\n",
        "    This method 'vectorizes' the multiset in order to take advances of GPU\n",
        "    processing. The policy is to embed all multisets in batch to the highest\n",
        "    dimensionality occurring in batch, i.e., ``max(t.size()[0]`` for ``t`` in batch).\n",
        "\n",
        "    Args:\n",
        "        batch:\n",
        "            The input batch to process as a list of tensors.\n",
        "\n",
        "        point_dim:\n",
        "            The dimension of the points the inputs consist of.\n",
        "\n",
        "    Returns:\n",
        "        A four-tuple consisting of (1) the constructed ``batch``, i.e., a\n",
        "        tensor with size\n",
        "        ``batch_size`` x ``n_max_points`` x ``point_dim``; (2) a tensor\n",
        "        ``not_dummy`` of size ``batch_size`` x ``n_max_points``, where\n",
        "        ``1`` at position (i,j) indicates if the point is a dummy point,\n",
        "        whereas ``0`` indicates a dummy point used for padding; (3)\n",
        "        the max. number of points and (4) the batch size.\n",
        "\n",
        "    Example::\n",
        "\n",
        "        >>> from torchph.nn.slayer import prepare_batch\n",
        "        >>> import torch\n",
        "        >>> x = [torch.rand(10,2), torch.rand(20,2)]\n",
        "        >>> batch, not_dummy, max_pts, batch_size = prepare_batch(x)\n",
        "    \"\"\"\n",
        "    if point_dim is None:\n",
        "        point_dim = batch[0].size(1)\n",
        "    assert (all(x.size(1) == point_dim for x in batch if len(x) != 0))\n",
        "\n",
        "    batch_size = len(batch)\n",
        "    batch_max_points = max([t.size(0) for t in batch])\n",
        "    input_device = batch[0].device\n",
        "\n",
        "    if batch_max_points == 0:\n",
        "        # if we are here, batch consists only of empty diagrams.\n",
        "        batch_max_points = 1\n",
        "\n",
        "    # This will later be used to set the dummy points to zero in the output.\n",
        "    not_dummy_points = torch.zeros(\n",
        "        batch_size,\n",
        "        batch_max_points,\n",
        "        device=input_device)\n",
        "\n",
        "    prepared_batch = []\n",
        "\n",
        "    for i, multi_set in enumerate(batch):\n",
        "        n_points = multi_set.size(0)\n",
        "\n",
        "        prepared_dgm = torch.zeros(\n",
        "            batch_max_points,\n",
        "            point_dim,\n",
        "            device=input_device)\n",
        "\n",
        "        if n_points > 0:\n",
        "            index_selection = torch.tensor(range(n_points),\n",
        "                                           device=input_device)\n",
        "\n",
        "            prepared_dgm.index_add_(0, index_selection, multi_set)\n",
        "\n",
        "            not_dummy_points[i, :n_points] = 1\n",
        "\n",
        "        prepared_batch.append(prepared_dgm)\n",
        "\n",
        "    prepared_batch = torch.stack(prepared_batch)\n",
        "\n",
        "    return prepared_batch, not_dummy_points, batch_max_points, batch_size\n",
        "\n",
        "\n",
        "def is_prepared_batch(input):\n",
        "    if not (isinstance(input, tuple) and len(input) == 4):\n",
        "        return False\n",
        "    else:\n",
        "        batch, not_dummy_points, max_points, batch_size = input\n",
        "        return isinstance(batch, Tensor) and isinstance(not_dummy_points, Tensor) and max_points > 0 and batch_size > 0\n",
        "\n",
        "\n",
        "def is_list_of_tensors(input):\n",
        "    try:\n",
        "        return all([isinstance(x, Tensor) for x in input])\n",
        "\n",
        "    except TypeError:\n",
        "        return False\n",
        "\n",
        "\n",
        "def prepare_batch_if_necessary(input, point_dimension=None):\n",
        "    batch, not_dummy_points, max_points, batch_size = None, None, None, None\n",
        "\n",
        "    if is_prepared_batch(input):\n",
        "        batch, not_dummy_points, max_points, batch_size = input\n",
        "    elif is_list_of_tensors(input):\n",
        "        if point_dimension is None:\n",
        "            point_dimension = input[0].size(1)\n",
        "\n",
        "        batch, not_dummy_points, max_points, batch_size = prepare_batch(\n",
        "            input,\n",
        "            point_dimension)\n",
        "\n",
        "    else:\n",
        "        raise ValueError(\n",
        "            'SLayer does not recognize input format! Expecting [Tensor] or \\\n",
        "             prepared batch. Not {}'.format(input))\n",
        "\n",
        "    return batch, not_dummy_points, max_points, batch_size\n",
        "\n",
        "\n",
        "def parameter_init_from_arg(arg, size, default, scalar_is_valid=False):\n",
        "    if isinstance(arg, (int, float)):\n",
        "        if not scalar_is_valid:\n",
        "            raise ValueError('Scalar initialization values are not valid. \\\n",
        "                              Got {} expected Tensor of size {}.'\n",
        "                             .format(arg, size))\n",
        "        return torch.Tensor(*size).fill_(arg)\n",
        "    elif isinstance(arg, torch.Tensor):\n",
        "        assert(arg.size() == size)\n",
        "        return arg\n",
        "    elif arg is None:\n",
        "        if default in [torch.rand, torch.randn, torch.ones, torch.ones_like]:\n",
        "            return default(*size)\n",
        "        else:\n",
        "            return default(size)\n",
        "    else:\n",
        "        raise ValueError('Cannot handle parameter initialization. \\\n",
        "                          Got \"{}\" '.format(arg))\n",
        "\n",
        "# endregion"
      ],
      "metadata": {
        "cellView": "form",
        "id": "IqBanr27INKf"
      },
      "execution_count": null,
      "outputs": []
    },
    {
      "cell_type": "code",
      "source": [
        "#@title\n",
        "class SLayerExponential(Module):\n",
        "    \"\"\"\n",
        "    Proposed input layer for multisets [1].\n",
        "    \"\"\"\n",
        "    def __init__(self, n_elements: int,\n",
        "                 point_dimension: int=2,\n",
        "                 centers_init: Tensor=None,\n",
        "                 sharpness_init: Tensor=None):\n",
        "        \"\"\"\n",
        "        Args:\n",
        "            n_elements:\n",
        "                Number of structure elements used.\n",
        "\n",
        "            point_dimension: D\n",
        "                Dimensionality of the points of which the\n",
        "                input multi set consists of.\n",
        "\n",
        "            centers_init:\n",
        "                The initialization for the centers of the structure elements.\n",
        "\n",
        "            sharpness_init:\n",
        "                Initialization for the sharpness of the structure elements.\n",
        "        \"\"\"\n",
        "        super().__init__()\n",
        "\n",
        "        self.n_elements = n_elements\n",
        "        self.point_dimension = point_dimension\n",
        "\n",
        "        expected_init_size = (self.n_elements, self.point_dimension)\n",
        "\n",
        "        centers_init = parameter_init_from_arg(\n",
        "            centers_init,\n",
        "            expected_init_size,\n",
        "            torch.rand, scalar_is_valid=False)\n",
        "        sharpness_init = parameter_init_from_arg(\n",
        "            sharpness_init,\n",
        "            expected_init_size,\n",
        "            lambda size: torch.ones(*size)*3)\n",
        "\n",
        "        self.centers = Parameter(centers_init)\n",
        "        self.sharpness = Parameter(sharpness_init)\n",
        "\n",
        "    def forward(self, input)->Tensor:\n",
        "        batch, not_dummy_points, max_points, batch_size = prepare_batch_if_necessary(\n",
        "            input,\n",
        "            point_dimension=self.point_dimension)\n",
        "\n",
        "        batch = torch.cat([batch] * self.n_elements, 1)\n",
        "\n",
        "        not_dummy_points = torch.cat([not_dummy_points] * self.n_elements, 1)\n",
        "\n",
        "        centers = torch.cat([self.centers] * max_points, 1)\n",
        "        centers = centers.view(-1, self.point_dimension)\n",
        "        centers = torch.stack([centers] * batch_size, 0)\n",
        "\n",
        "        sharpness = torch.pow(self.sharpness, 2)\n",
        "        sharpness = torch.cat([sharpness] * max_points, 1)\n",
        "        sharpness = sharpness.view(-1, self.point_dimension)\n",
        "        sharpness = torch.stack([sharpness] * batch_size, 0)\n",
        "\n",
        "        x = centers - batch\n",
        "        x = x.pow(2)\n",
        "        x = torch.mul(x, sharpness)\n",
        "        x = torch.sum(x, 2)\n",
        "        x = torch.exp(-x)\n",
        "        x = torch.mul(x, not_dummy_points)\n",
        "        x = x.view(batch_size, self.n_elements, -1)\n",
        "        x = torch.sum(x, 2)\n",
        "        x = x.squeeze()\n",
        "\n",
        "        return x\n",
        "\n",
        "    def __repr__(self):\n",
        "        return 'SLayerExponential (... -> {} )'.format(self.n_elements)"
      ],
      "metadata": {
        "cellView": "form",
        "id": "rqQ3t3znFsx7"
      },
      "execution_count": null,
      "outputs": []
    },
    {
      "cell_type": "code",
      "source": [
        "class TestModel(nn.Module):\n",
        "  def __init__(self):\n",
        "    super(TestModel, self).__init__()\n",
        "\n",
        "    self.slayer = SLayerExponential(32, 2)\n",
        "\n",
        "    self.dropout1 = nn.Dropout(0.2)\n",
        "    self.norm1 = nn.BatchNorm1d(32)\n",
        "    self.fc1 = nn.Linear(32, 64)\n",
        "    self.relu1 = nn.ReLU()\n",
        "\n",
        "    self.dropout2 = nn.Dropout(0.1)\n",
        "    self.norm2 = nn.BatchNorm1d(64)\n",
        "    self.fc2 = nn.Linear(64, 64)\n",
        "    self.relu2 = nn.ReLU()\n",
        "\n",
        "    self.dropout3 = nn.Dropout(0.1)\n",
        "    self.norm3 = nn.BatchNorm1d(64)\n",
        "    self.fc3 = nn.Linear(64, 32)\n",
        "    self.relu3 = nn.ReLU()\n",
        "\n",
        "    self.fc4 = nn.Linear(32, 10)\n",
        "    self.softmax = nn.Softmax(dim=1)\n",
        "\n",
        "  def forward(self, x):\n",
        "    x = self.slayer(x)\n",
        "\n",
        "    x = self.dropout1(x)\n",
        "    x = self.norm1(x)\n",
        "    x = self.fc1(x)\n",
        "    x = self.relu1(x)\n",
        "\n",
        "    x = self.dropout2(x)\n",
        "    x = self.norm2(x)\n",
        "    x = self.fc2(x)\n",
        "    x = self.relu2(x)\n",
        "\n",
        "    x = self.dropout3(x)\n",
        "    x = self.norm3(x)\n",
        "    x = self.fc3(x)\n",
        "    x = self.relu3(x)\n",
        "\n",
        "    x = self.fc4(x)\n",
        "    x = self.softmax(x)\n",
        "\n",
        "    return x"
      ],
      "metadata": {
        "id": "YUaEYJy3HNLH"
      },
      "execution_count": null,
      "outputs": []
    },
    {
      "cell_type": "code",
      "source": [
        "# One hot encoding\n",
        "y_train_oh = torch.eye(10)[train_labels]"
      ],
      "metadata": {
        "id": "Hm8-IbSvWP5Q"
      },
      "execution_count": null,
      "outputs": []
    },
    {
      "cell_type": "code",
      "source": [
        "train_diagrams = torch.Tensor(train_diagrams)"
      ],
      "metadata": {
        "id": "L6hmW0UUWUvL"
      },
      "execution_count": null,
      "outputs": []
    },
    {
      "cell_type": "code",
      "source": [
        "model = TestModel()"
      ],
      "metadata": {
        "id": "cnO7Wwn1WDhH"
      },
      "execution_count": null,
      "outputs": []
    },
    {
      "cell_type": "code",
      "source": [
        "model = model.to(device)"
      ],
      "metadata": {
        "id": "TXMLognOWeqM"
      },
      "execution_count": null,
      "outputs": []
    },
    {
      "cell_type": "code",
      "source": [
        "train_diagrams = train_diagrams.to(device)"
      ],
      "metadata": {
        "id": "rkyonLl-W0fL"
      },
      "execution_count": null,
      "outputs": []
    },
    {
      "cell_type": "code",
      "source": [
        "y_train_oh = y_train_oh.to(device)"
      ],
      "metadata": {
        "id": "sxD0xN8eXd_r"
      },
      "execution_count": null,
      "outputs": []
    },
    {
      "cell_type": "code",
      "source": [
        "num_epochs = 30\n",
        "batch_size = 250"
      ],
      "metadata": {
        "id": "6FsqkXoJW4oZ"
      },
      "execution_count": null,
      "outputs": []
    },
    {
      "cell_type": "code",
      "source": [
        "num_samples = train_diagrams.shape[0]"
      ],
      "metadata": {
        "id": "1DxAL68nXCtD"
      },
      "execution_count": null,
      "outputs": []
    },
    {
      "cell_type": "code",
      "source": [
        "criterion = nn.CrossEntropyLoss()\n",
        "optimizer = torch.optim.Adam(model.parameters(), lr=0.001)\n"
      ],
      "metadata": {
        "id": "td4lM3ZSXErf"
      },
      "execution_count": null,
      "outputs": []
    },
    {
      "cell_type": "code",
      "source": [
        "for epoch in range(num_epochs):\n",
        "    for start_index in range(0, num_samples, batch_size):\n",
        "        end_index = start_index + batch_size\n",
        "        if end_index > num_samples: continue\n",
        "        X_batch = train_diagrams[start_index: end_index]\n",
        "        y_batch = y_train_oh[start_index: end_index]\n",
        "\n",
        "        # Forward pass\n",
        "        y_batch_ = model(X_batch)\n",
        "        loss = criterion(y_batch_, y_batch)\n",
        "\n",
        "        # Backward pass and optimization\n",
        "        optimizer.zero_grad()\n",
        "        loss.backward()\n",
        "        optimizer.step()"
      ],
      "metadata": {
        "id": "PwxY_wAIXO7P"
      },
      "execution_count": null,
      "outputs": []
    },
    {
      "cell_type": "code",
      "source": [
        "y_train_oh_ = model(train_diagrams)"
      ],
      "metadata": {
        "id": "WFAwsh7bXpxY"
      },
      "execution_count": null,
      "outputs": []
    },
    {
      "cell_type": "code",
      "source": [
        "y_train_ = torch.argmax(y_train_oh_, dim=1).cpu().numpy()"
      ],
      "metadata": {
        "id": "EGCtlCXeXtKR"
      },
      "execution_count": null,
      "outputs": []
    },
    {
      "cell_type": "code",
      "source": [
        "accuracy = accuracy_score(train_labels, y_train_)\n",
        "\n",
        "print(f\"Training accuracy: {accuracy}\")"
      ],
      "metadata": {
        "colab": {
          "base_uri": "https://localhost:8080/"
        },
        "id": "s7d1XAlFXx-z",
        "outputId": "91b0552d-317e-47d7-fefa-aa94abf2503e"
      },
      "execution_count": null,
      "outputs": [
        {
          "output_type": "stream",
          "name": "stdout",
          "text": [
            "Training accuracy: 0.29947619047619045\n"
          ]
        }
      ]
    },
    {
      "cell_type": "code",
      "source": [
        "from sklearn.metrics import confusion_matrix, ConfusionMatrixDisplay"
      ],
      "metadata": {
        "id": "WoHOx-VpX4Ae"
      },
      "execution_count": null,
      "outputs": []
    },
    {
      "cell_type": "code",
      "source": [
        "disp = ConfusionMatrixDisplay(confusion_matrix(train_labels, y_train_))\n",
        "disp.plot()"
      ],
      "metadata": {
        "colab": {
          "base_uri": "https://localhost:8080/",
          "height": 470
        },
        "id": "aLzBUUQSl2Mu",
        "outputId": "80e0361f-45ce-4fce-8f27-eb9eadb4dcbb"
      },
      "execution_count": null,
      "outputs": [
        {
          "output_type": "execute_result",
          "data": {
            "text/plain": [
              "<sklearn.metrics._plot.confusion_matrix.ConfusionMatrixDisplay at 0x7ff0d71316c0>"
            ]
          },
          "metadata": {},
          "execution_count": 96
        },
        {
          "output_type": "display_data",
          "data": {
            "text/plain": [
              "<Figure size 640x480 with 2 Axes>"
            ],
            "image/png": "[encoded data removed]"
          },
          "metadata": {}
        }
      ]
    },
    {
      "cell_type": "code",
      "source": [],
      "metadata": {
        "id": "-r9TgQkwmArC"
      },
      "execution_count": null,
      "outputs": []
    }
  ]
}